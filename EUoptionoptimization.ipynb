{
 "cells": [
  {
   "cell_type": "code",
   "execution_count": null,
   "id": "fbc9838f-769d-44af-a5f3-843eac453340",
   "metadata": {},
   "outputs": [],
   "source": [
    "import math\n",
    "import matplotlib.pyplot as plt\n",
    "import numpy as np\n",
    "import pandas as pd\n",
    "import yfinance as yf\n",
    "from scipy.stats import norm\n",
    "from mpl_toolkits.mplot3d import Axes3D\n"
   ]
  },
  {
   "cell_type": "code",
   "execution_count": null,
   "id": "3098cca8-6ce4-45d0-a828-b701927d18ca",
   "metadata": {},
   "outputs": [],
   "source": [
    "def simulation(stock_ticker,start_date,end_date,trial_count,daysofsim):\n",
    "    trading_days= 252\n",
    "    data = yf.download(stock_ticker, start_date ,end_date)\n",
    "    time_elapsed = (data.index[-1]- data.index[0]).days\n",
    "    total_growth = (data['Adj Close'][-1] / data['Adj Close'][1])\n",
    "    years =  time_elapsed/365.0\n",
    "    cagr= total_growth ** (1/years) - 1\n",
    "    std_dev= data['Adj Close'].pct_change().std()\n",
    "    std_dev = std_dev * math.sqrt(trading_days)\n",
    "    closing_prices = []\n",
    "    for i in range(trial_count):\n",
    "        daily_return_percentages = np.random.normal(cagr/trading_days , std_dev / math.sqrt(trading_days), daysofsim)+1\n",
    "        price_series = [data['Adj Close'][-1]]\n",
    "\n",
    "        for j in daily_return_percentages:\n",
    "            price_series.append(price_series[-1]*j)\n",
    "\n",
    "        closing_prices.append(price_series[-1])\n",
    "\n",
    "        plt.plot(price_series)\n",
    "\n",
    "\n",
    "    plt.show()\n",
    "    plt.hist(closing_prices , bins = 40)\n",
    "    plt.show()\n",
    "    mean_end_price = round(np.mean(closing_prices),2)\n",
    "    #print(\"Expected Price: \", mean_end_price)\n",
    "    return closing_prices, std_dev, data\n",
    "\n",
    "\n",
    "\n",
    "\n",
    "\n",
    "    "
   ]
  },
  {
   "cell_type": "code",
   "execution_count": null,
   "id": "33c699fd-f4b2-4471-b374-20fccee08a70",
   "metadata": {},
   "outputs": [],
   "source": [
    "closing_prices , volatility, data = simulation('SPY','2021-01-01','2024-01-01',1000,120)"
   ]
  },
  {
   "cell_type": "code",
   "execution_count": null,
   "id": "666b8de6-3a7b-4229-8b0a-f7963ab7c88f",
   "metadata": {},
   "outputs": [],
   "source": [
    "def percent_itm(strike_price, closing_prices, trial_count):\n",
    "    comparison_results = [num - strike_price for num in closing_prices]\n",
    "    positive_results = [num for num in comparison_results if num > 0]\n",
    "    negative_results = [num for num in comparison_results if num <= 0]\n",
    "    profitability = len(positive_results) / trial_count\n",
    "    #print(profitability)\n",
    "    plt.hist(positive_results, bins=40, color='blue', label='Positive Results')\n",
    "    plt.hist(negative_results, bins=40, color='red', label='Negative Results')\n",
    "    plt.legend()\n",
    "    plt.show()\n",
    "    return profitability, comparison_results, trial_count\n",
    "\n",
    "    "
   ]
  },
  {
   "cell_type": "code",
   "execution_count": null,
   "id": "b2666eac-b283-400e-ad36-e5300d0da012",
   "metadata": {},
   "outputs": [],
   "source": [
    "profitability, comparison_results, trial_count = percent_itm(370,closing_prices, 1000)\n"
   ]
  },
  {
   "cell_type": "code",
   "execution_count": null,
   "id": "862012e1-94dd-4acc-bb79-8d4eb884b949",
   "metadata": {},
   "outputs": [],
   "source": [
    "def all_path_exepected_returns(profitability,comparison_results, trial_count):\n",
    "    expected_profit = 0\n",
    "    for n in comparison_results:\n",
    "        expected_profit += (n*profitability)*(1/trial_count) \n",
    "    return expected_profit\n",
    "    \n",
    "    \n",
    "    \n",
    "    "
   ]
  },
  {
   "cell_type": "code",
   "execution_count": null,
   "id": "008d8b96-349d-4a12-920c-687c66f031b6",
   "metadata": {},
   "outputs": [],
   "source": [
    "all_path_expected_profit = all_path_exepected_returns(profitability,comparison_results, trial_count)"
   ]
  },
  {
   "cell_type": "code",
   "execution_count": null,
   "id": "9a416aea-0b0b-4ae3-b806-4f41efae3e8c",
   "metadata": {},
   "outputs": [],
   "source": [
    "def black_scholes(S0, x, r, T, volatility ):\n",
    "    d1 = (np.log(S0/x) + (r + ((volatility)**2)/2)*T)/(volatility*math.sqrt(T))\n",
    "\n",
    "    d2 = (np.log(S0/x) + (r - ((volatility)**2)/2)*T)/(volatility*math.sqrt(T))\n",
    "\n",
    "    cost = S0*norm.cdf(d1) - x*((math.e)**(-1*r*T))*norm.cdf(d2)\n",
    "\n",
    "    return cost    "
   ]
  },
  {
   "cell_type": "code",
   "execution_count": null,
   "id": "ab22e990-c02c-486e-ad3d-e922561e2205",
   "metadata": {},
   "outputs": [],
   "source": [
    "def optimization(stock_ticker , start_date , end_date ,trial_count, daysofsim , strike_price):\n",
    "    closing_prices , volatility, data = simulation(stock_ticker,start_date,end_date,trial_count,daysofsim)\n",
    "    profitability, comparison_results, trial_count = percent_itm(strike_price,closing_prices, trial_count)\n",
    "    all_path_expected_profit = all_path_exepected_returns(profitability,comparison_results, trial_count)\n",
    "    \n",
    "    T = daysofsim/252\n",
    "    \n",
    "    price_of_option = black_scholes(data['Open'][-1],strike_price, 0.0428, T , volatility)\n",
    "\n",
    "    net_profit = all_path_expected_profit-price_of_option\n",
    "    #print(\"Net Profit:\", net_profit)  # Debugging statement\n",
    "\n",
    "\n",
    "    #print(net_profit)\n",
    "    return net_profit\n",
    "    "
   ]
  },
  {
   "cell_type": "code",
   "execution_count": null,
   "id": "6becb77f-00f1-429a-9f79-4d82c6c4f5cf",
   "metadata": {},
   "outputs": [],
   "source": [
    "optimization('SPY','2021-01-01','2024-01-01',1000,120,370)"
   ]
  },
  {
   "cell_type": "code",
   "execution_count": null,
   "id": "571cbb0a-a409-4f4c-a8a7-b0db452ba329",
   "metadata": {},
   "outputs": [],
   "source": [
    "def function(stock_ticker , start_date , end_date ,trial_count, minprice , maxprice , minday, maxday):\n",
    "    prices = list(range(minprice,maxprice+1))\n",
    "    results  = {}\n",
    "    dates = list(range(minday,maxday+1))\n",
    "\n",
    "    for sprice in prices:\n",
    "        for day in dates:\n",
    "            net_profit = optimization(stock_ticker , start_date , end_date ,trial_count, day , sprice)\n",
    "            results[(sprice,day)] = net_profit\n",
    "            print(f\"Strike Price: {sprice}, Contract Length: {day}, Net Profit: {net_profit}\")\n",
    "            return results\n",
    "\n",
    "            \n",
    "\n"
   ]
  },
  {
   "cell_type": "code",
   "execution_count": null,
   "id": "21c43f0f-324c-4ed6-af20-1c0ef2ec4e0b",
   "metadata": {},
   "outputs": [],
   "source": [
    "function('SPY','2021-01-01','2024-01-01',100,350,360,1,10)"
   ]
  },
  {
   "cell_type": "code",
   "execution_count": null,
   "id": "777d6a73-b57b-4b7f-b547-73f403055d13",
   "metadata": {},
   "outputs": [],
   "source": [
    "def main_function(stock_ticker, start_date, end_date, trial_count, minprice, maxprice, minday, maxday):\n",
    "    prices = list(range(minprice, maxprice + 1))\n",
    "    days = list(range(minday, maxday + 1))\n",
    "    results = {}\n",
    "\n",
    "    for sprice in prices:\n",
    "        for day in days:\n",
    "            net_profit = optimization(stock_ticker, start_date, end_date, trial_count, day, sprice)\n",
    "            results[(sprice, day)] = net_profit\n",
    "            print(f\"Strike Price: {sprice}, Contract Length: {day}, Net Profit: {net_profit}\")\n",
    "    \n",
    "    return results\n",
    "\n"
   ]
  },
  {
   "cell_type": "code",
   "execution_count": null,
   "id": "5a766ece-bd56-4461-a128-1ade67466897",
   "metadata": {},
   "outputs": [],
   "source": [
    "results = main_function('SPY','2021-01-01','2024-01-01',100,425,500,1,100)"
   ]
  },
  {
   "cell_type": "code",
   "execution_count": null,
   "id": "de4b46f6-3c1e-4bda-9115-d6cd6d958656",
   "metadata": {},
   "outputs": [],
   "source": [
    "def find_max_min(results):\n",
    "    max_key = max(results, key=results.get)\n",
    "    min_key = min(results, key=results.get)\n",
    "    max_value = results[max_key]\n",
    "    min_value = results[min_key]\n",
    "    return max_key, max_value, min_key, min_value"
   ]
  },
  {
   "cell_type": "code",
   "execution_count": null,
   "id": "653e4ae8-68d9-4626-a2ba-9df435aa3e21",
   "metadata": {},
   "outputs": [],
   "source": [
    "def plot_results(results):\n",
    "    strike_prices = sorted(set(k[0] for k in results.keys()))\n",
    "    contract_lengths = sorted(set(k[1] for k in results.keys()))\n",
    "    Z = np.array([results[(sp, cl)] for sp in strike_prices for cl in contract_lengths])\n",
    "    Z = Z.reshape(len(strike_prices), len(contract_lengths))\n",
    "\n",
    "    X, Y = np.meshgrid(contract_lengths, strike_prices)\n",
    "    \n",
    "    fig = plt.figure()\n",
    "    ax = fig.add_subplot(111, projection='3d')\n",
    "    ax.plot_surface(X, Y, Z, cmap='viridis')\n",
    "\n",
    "    ax.set_xlabel('Contract Length')\n",
    "    ax.set_ylabel('Strike Price')\n",
    "    ax.set_zlabel('Net Profit')\n",
    "\n",
    "    # Find and highlight max and min points\n",
    "    max_key, max_value, min_key, min_value = find_max_min(results)\n",
    "    max_x, max_y = max_key\n",
    "    min_x, min_y = min_key\n",
    "\n",
    "    ax.scatter(min_y, min_x, min_value, color='r', s=100, label='Min')\n",
    "    ax.scatter(max_y, max_x, max_value, color='r', s=100, label='Max')\n",
    "\n",
    "    ax.legend()\n",
    "\n",
    "    plt.show()\n",
    "\n",
    "    # Print max and min values\n",
    "    print(f\"Max Net Profit: {max_value} at Strike Price: {max_key[0]}, Contract Length: {max_key[1]}\")\n",
    "    print(f\"Min Net Profit: {min_value} at Strike Price: {min_key[0]}, Contract Length: {min_key[1]}\")\n",
    "\n"
   ]
  },
  {
   "cell_type": "code",
   "execution_count": null,
   "id": "16d6a7fd-4e33-4a6d-870c-c731fc6fbccb",
   "metadata": {},
   "outputs": [],
   "source": [
    "plot_results(results)"
   ]
  },
  {
   "cell_type": "code",
   "execution_count": null,
   "id": "751c055c-7f35-4c89-aecd-52e7a095a8bd",
   "metadata": {},
   "outputs": [],
   "source": []
  }
 ],
 "metadata": {
  "kernelspec": {
   "display_name": "Python 3 (ipykernel)",
   "language": "python",
   "name": "python3"
  },
  "language_info": {
   "codemirror_mode": {
    "name": "ipython",
    "version": 3
   },
   "file_extension": ".py",
   "mimetype": "text/x-python",
   "name": "python",
   "nbconvert_exporter": "python",
   "pygments_lexer": "ipython3",
   "version": "3.12.4"
  }
 },
 "nbformat": 4,
 "nbformat_minor": 5
}
